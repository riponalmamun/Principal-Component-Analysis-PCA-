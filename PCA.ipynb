{
  "nbformat": 4,
  "nbformat_minor": 0,
  "metadata": {
    "colab": {
      "provenance": [],
      "include_colab_link": true
    },
    "kernelspec": {
      "name": "python3",
      "display_name": "Python 3"
    },
    "language_info": {
      "name": "python"
    }
  },
  "cells": [
    {
      "cell_type": "markdown",
      "metadata": {
        "id": "view-in-github",
        "colab_type": "text"
      },
      "source": [
        "<a href=\"https://colab.research.google.com/github/raihanewubd/CSE457/blob/main/PCA.ipynb\" target=\"_parent\"><img src=\"https://colab.research.google.com/assets/colab-badge.svg\" alt=\"Open In Colab\"/></a>"
      ]
    },
    {
      "cell_type": "code",
      "execution_count": null,
      "metadata": {
        "id": "vVQDCCwPjiOq"
      },
      "outputs": [],
      "source": [
        "import numpy as np\n",
        "import pandas as pd\n",
        "import matplotlib.pyplot as plt\n",
        "from sklearn.datasets import fetch_openml\n",
        "from sklearn.decomposition import PCA\n",
        "from sklearn.preprocessing import StandardScaler\n",
        "from sklearn.model_selection import train_test_split\n",
        "from sklearn.linear_model import LogisticRegression\n",
        "\n",
        "# 1. Load and Explore MNIST Dataset\n",
        "mnist = fetch_openml('mnist_784')\n",
        "\n",
        "X, y = mnist['data'], mnist['target']\n",
        "print(\"Dataset Shape:\", X.shape)  # (70000, 784) - 70k images, each with 784 pixels\n",
        "\n",
        "\n"
      ]
    },
    {
      "cell_type": "code",
      "source": [
        "# Visualize a few examples\n",
        "fig, axes = plt.subplots(2, 5, figsize=(10, 5))\n",
        "for i, ax in enumerate(axes.flat):\n",
        "    # Use .iloc to access the i-th row of the DataFrame and convert it to a NumPy array\n",
        "    ax.imshow(X.iloc[i].values.reshape(28, 28), cmap='binary')\n",
        "    ax.set(xticks=[], yticks=[], title=y[i])\n",
        "plt.show()\n",
        "\n"
      ],
      "metadata": {
        "id": "Jo52l35ijsDX"
      },
      "execution_count": null,
      "outputs": []
    },
    {
      "cell_type": "code",
      "source": [
        "# 2. Standardize the Data\n",
        "scaler = StandardScaler()\n",
        "X_scaled = scaler.fit_transform(X)\n",
        "\n"
      ],
      "metadata": {
        "id": "RPd8j11Fjymu"
      },
      "execution_count": null,
      "outputs": []
    },
    {
      "cell_type": "code",
      "source": [
        "# 3. Perform PCA\n",
        "pca = PCA()\n",
        "X_pca = pca.fit_transform(X_scaled)\n",
        "\n"
      ],
      "metadata": {
        "id": "XWJB_eLTj0-f"
      },
      "execution_count": null,
      "outputs": []
    },
    {
      "cell_type": "code",
      "source": [
        "# Determine explained variance\n",
        "explained_variance_ratio = pca.explained_variance_ratio_\n",
        "cumulative_variance = np.cumsum(explained_variance_ratio)\n",
        "\n",
        "# Scree Plot\n",
        "plt.plot(range(1, len(explained_variance_ratio) + 1), cumulative_variance, marker='o')\n",
        "plt.xlabel('Number of Components')\n",
        "plt.ylabel('Cumulative Explained Variance')\n",
        "plt.title('PCA Scree Plot')\n",
        "plt.show()\n",
        "\n"
      ],
      "metadata": {
        "id": "YcpH7hCNj4Cq"
      },
      "execution_count": null,
      "outputs": []
    },
    {
      "cell_type": "code",
      "source": [
        "# Choose optimal number of components (e.g., where cumulative variance reaches 95%)\n",
        "n_components = np.argmax(cumulative_variance >= 0.95) + 1\n",
        "print(f\"Selected {n_components} components explaining {cumulative_variance[n_components-1]:.2f} of variance\")\n",
        "\n",
        "pca = PCA(n_components=n_components)\n",
        "X_reduced = pca.fit_transform(X_scaled)\n",
        "\n",
        "# 4. Visualize PCA Results\n",
        "plt.scatter(X_reduced[:, 0], X_reduced[:, 1], c=y.cat.codes, cmap='viridis', s=10, alpha=0.5) # Convert y to numerical codes\n",
        "plt.xlabel('Principal Component 1')\n",
        "plt.ylabel('Principal Component 2')\n",
        "plt.title('MNIST Data After PCA')\n",
        "plt.colorbar(label='Digit')\n",
        "plt.show()\n",
        "\n"
      ],
      "metadata": {
        "id": "a0RkSUCJj9n_"
      },
      "execution_count": null,
      "outputs": []
    },
    {
      "cell_type": "code",
      "source": [
        "# 5. Evaluation (optional)\n",
        "X_train, X_test, y_train, y_test = train_test_split(X, y, test_size=0.2, random_state=42)\n",
        "X_reduced_train, X_reduced_test, _, _ = train_test_split(X_reduced, y, test_size=0.2, random_state=42)\n",
        "\n",
        "# Logistic Regression on original data\n",
        "clf = LogisticRegression(max_iter=1000)\n",
        "clf.fit(X_train, y_train)\n",
        "accuracy_original = clf.score(X_test, y_test)\n",
        "\n",
        "# Logistic Regression on reduced data\n",
        "clf_reduced = LogisticRegression(max_iter=1000)\n",
        "clf_reduced.fit(X_reduced_train, y_train)\n",
        "accuracy_reduced = clf_reduced.score(X_reduced_test, y_test)\n",
        "\n",
        "print(\"Accuracy (original):\", accuracy_original)\n",
        "print(\"Accuracy (reduced):\", accuracy_reduced)"
      ],
      "metadata": {
        "id": "28qlg3eIkAD4"
      },
      "execution_count": null,
      "outputs": []
    }
  ]
}